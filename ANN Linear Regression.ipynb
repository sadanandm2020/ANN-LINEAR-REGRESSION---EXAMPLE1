{
 "cells": [
  {
   "cell_type": "code",
   "execution_count": 1,
   "metadata": {},
   "outputs": [
    {
     "name": "stderr",
     "output_type": "stream",
     "text": [
      "Using TensorFlow backend.\n"
     ]
    }
   ],
   "source": [
    "#house_pricing\n",
    "import numpy as np\n",
    "import matplotlib.pyplot as plt\n",
    "import pandas as pd\n",
    "\n",
    "import keras\n",
    "from keras.models import Sequential\n",
    "from keras.layers import Dense\n",
    "from keras.layers import LeakyReLU,PReLU,ELU\n",
    "from keras.layers import Dropout\n",
    "from sklearn.preprocessing import StandardScaler\n",
    "from sklearn.model_selection import train_test_split\n",
    "from sklearn.metrics import confusion_matrix\n",
    "from sklearn.metrics import accuracy_score\n"
   ]
  },
  {
   "cell_type": "code",
   "execution_count": 13,
   "metadata": {},
   "outputs": [
    {
     "data": {
      "text/html": [
       "<div>\n",
       "<style scoped>\n",
       "    .dataframe tbody tr th:only-of-type {\n",
       "        vertical-align: middle;\n",
       "    }\n",
       "\n",
       "    .dataframe tbody tr th {\n",
       "        vertical-align: top;\n",
       "    }\n",
       "\n",
       "    .dataframe thead th {\n",
       "        text-align: right;\n",
       "    }\n",
       "</style>\n",
       "<table border=\"1\" class=\"dataframe\">\n",
       "  <thead>\n",
       "    <tr style=\"text-align: right;\">\n",
       "      <th></th>\n",
       "      <th>housingMedianAge</th>\n",
       "      <th>totalRooms</th>\n",
       "      <th>totalBedrooms</th>\n",
       "      <th>population</th>\n",
       "      <th>households</th>\n",
       "      <th>medianIncome</th>\n",
       "    </tr>\n",
       "  </thead>\n",
       "  <tbody>\n",
       "    <tr>\n",
       "      <td>0</td>\n",
       "      <td>41.0</td>\n",
       "      <td>880.0</td>\n",
       "      <td>129.0</td>\n",
       "      <td>322.0</td>\n",
       "      <td>126.0</td>\n",
       "      <td>8.3252</td>\n",
       "    </tr>\n",
       "    <tr>\n",
       "      <td>1</td>\n",
       "      <td>21.0</td>\n",
       "      <td>7099.0</td>\n",
       "      <td>1106.0</td>\n",
       "      <td>2401.0</td>\n",
       "      <td>1138.0</td>\n",
       "      <td>8.3014</td>\n",
       "    </tr>\n",
       "    <tr>\n",
       "      <td>2</td>\n",
       "      <td>52.0</td>\n",
       "      <td>1467.0</td>\n",
       "      <td>190.0</td>\n",
       "      <td>496.0</td>\n",
       "      <td>177.0</td>\n",
       "      <td>7.2574</td>\n",
       "    </tr>\n",
       "    <tr>\n",
       "      <td>3</td>\n",
       "      <td>52.0</td>\n",
       "      <td>1274.0</td>\n",
       "      <td>235.0</td>\n",
       "      <td>558.0</td>\n",
       "      <td>219.0</td>\n",
       "      <td>5.6431</td>\n",
       "    </tr>\n",
       "    <tr>\n",
       "      <td>4</td>\n",
       "      <td>52.0</td>\n",
       "      <td>1627.0</td>\n",
       "      <td>280.0</td>\n",
       "      <td>565.0</td>\n",
       "      <td>259.0</td>\n",
       "      <td>3.8462</td>\n",
       "    </tr>\n",
       "  </tbody>\n",
       "</table>\n",
       "</div>"
      ],
      "text/plain": [
       "   housingMedianAge  totalRooms  totalBedrooms  population  households  \\\n",
       "0              41.0       880.0          129.0       322.0       126.0   \n",
       "1              21.0      7099.0         1106.0      2401.0      1138.0   \n",
       "2              52.0      1467.0          190.0       496.0       177.0   \n",
       "3              52.0      1274.0          235.0       558.0       219.0   \n",
       "4              52.0      1627.0          280.0       565.0       259.0   \n",
       "\n",
       "   medianIncome  \n",
       "0        8.3252  \n",
       "1        8.3014  \n",
       "2        7.2574  \n",
       "3        5.6431  \n",
       "4        3.8462  "
      ]
     },
     "execution_count": 13,
     "metadata": {},
     "output_type": "execute_result"
    }
   ],
   "source": [
    "# Importing the dataset\n",
    "dataset = pd.read_csv('house_pricing.csv')\n",
    "#dataset.head()\n",
    "\n",
    "X = dataset.iloc[:, 0:6]\n",
    "Y = dataset.iloc[:, 6]\n",
    "X.head()"
   ]
  },
  {
   "cell_type": "code",
   "execution_count": 10,
   "metadata": {},
   "outputs": [],
   "source": [
    "X_train, X_test, y_train, y_test = train_test_split(X, Y, test_size = 0.2, random_state = 0)"
   ]
  },
  {
   "cell_type": "code",
   "execution_count": 12,
   "metadata": {},
   "outputs": [
    {
     "data": {
      "text/plain": [
       "housingMedianAge    0\n",
       "totalRooms          0\n",
       "totalBedrooms       0\n",
       "population          0\n",
       "households          0\n",
       "medianIncome        0\n",
       "dtype: int64"
      ]
     },
     "execution_count": 12,
     "metadata": {},
     "output_type": "execute_result"
    }
   ],
   "source": [
    "X_test.isnull().sum()"
   ]
  },
  {
   "cell_type": "code",
   "execution_count": 16,
   "metadata": {},
   "outputs": [],
   "source": [
    "\n",
    "sc = StandardScaler()\n",
    "X_train = sc.fit_transform(X_train)\n",
    "X_test = sc.transform(X_test)\n",
    "#y_train = sc.fit_transform(y_train)\n",
    "#y_test = sc.transform(y_test)\n"
   ]
  },
  {
   "cell_type": "code",
   "execution_count": 18,
   "metadata": {},
   "outputs": [
    {
     "name": "stdout",
     "output_type": "stream",
     "text": [
      "WARNING:tensorflow:From C:\\Users\\mishrasad\\AppData\\Local\\Continuum\\anaconda3\\lib\\site-packages\\keras\\backend\\tensorflow_backend.py:74: The name tf.get_default_graph is deprecated. Please use tf.compat.v1.get_default_graph instead.\n",
      "\n"
     ]
    }
   ],
   "source": [
    "classifier = Sequential()"
   ]
  },
  {
   "cell_type": "code",
   "execution_count": 32,
   "metadata": {},
   "outputs": [
    {
     "name": "stdout",
     "output_type": "stream",
     "text": [
      "WARNING:tensorflow:From C:\\Users\\mishrasad\\AppData\\Local\\Continuum\\anaconda3\\lib\\site-packages\\keras\\backend\\tensorflow_backend.py:133: The name tf.placeholder_with_default is deprecated. Please use tf.compat.v1.placeholder_with_default instead.\n",
      "\n",
      "WARNING:tensorflow:From C:\\Users\\mishrasad\\AppData\\Local\\Continuum\\anaconda3\\lib\\site-packages\\keras\\backend\\tensorflow_backend.py:3445: calling dropout (from tensorflow.python.ops.nn_ops) with keep_prob is deprecated and will be removed in a future version.\n",
      "Instructions for updating:\n",
      "Please use `rate` instead of `keep_prob`. Rate should be set to `rate = 1 - keep_prob`.\n"
     ]
    }
   ],
   "source": [
    "classifier.add(Dense(units = 5, kernel_initializer = 'he_uniform',activation='relu',input_dim = 6))\n",
    "classifier.add(Dropout(0.2))\n",
    "# Adding the second hidden layer\n",
    "classifier.add(Dense(units = 4, kernel_initializer = 'he_uniform',activation='relu'))\n",
    "classifier.add(Dropout(0.2))\n",
    "# Adding the output layer\n",
    "classifier.add(Dense(units = 1, kernel_initializer = 'glorot_uniform', activation = 'linear'))\n",
    "\n",
    "#classifier.summary()\n",
    "\n",
    "#model.add(Dense(1, activation='linear'))\n",
    "\n",
    "# Compiling the ANN\n",
    "#classifier.compile(optimizer = 'Adamax', loss = 'mse', metrics = ['accuracy'])\n",
    "classifier.compile(loss='mse', optimizer='adam', metrics=['mse','mae'])\n"
   ]
  },
  {
   "cell_type": "code",
   "execution_count": 33,
   "metadata": {},
   "outputs": [
    {
     "name": "stdout",
     "output_type": "stream",
     "text": [
      "Train on 11063 samples, validate on 5449 samples\n",
      "Epoch 1/20\n",
      "11063/11063 [==============================] - 4s 388us/step - loss: 110743197968.8692 - mean_squared_error: 110743197968.8692 - mean_absolute_error: 269049.7501 - val_loss: 56211398309.8433 - val_mean_squared_error: 56211398309.8433 - val_mean_absolute_error: 207637.9807\n",
      "Epoch 2/20\n",
      "11063/11063 [==============================] - 3s 277us/step - loss: 46883667694.7143 - mean_squared_error: 46883667694.7143 - mean_absolute_error: 179936.7133 - val_loss: 12119849609.9365 - val_mean_squared_error: 12119849609.9365 - val_mean_absolute_error: 83894.7839\n",
      "Epoch 3/20\n",
      "11063/11063 [==============================] - 3s 249us/step - loss: 24311739826.8969 - mean_squared_error: 24311739826.8969 - mean_absolute_error: 110344.5899 - val_loss: 10015819641.2582 - val_mean_squared_error: 10015819641.2582 - val_mean_absolute_error: 73480.2148\n",
      "Epoch 4/20\n",
      "11063/11063 [==============================] - 3s 234us/step - loss: 20853544814.8647 - mean_squared_error: 20853544814.8647 - mean_absolute_error: 103528.9726 - val_loss: 8829476499.6146 - val_mean_squared_error: 8829476499.6146 - val_mean_absolute_error: 68187.3296\n",
      "Epoch 5/20\n",
      "11063/11063 [==============================] - 3s 235us/step - loss: 19471065497.4426 - mean_squared_error: 19471065497.4426 - mean_absolute_error: 100269.4649 - val_loss: 8413763022.9048 - val_mean_squared_error: 8413763022.9048 - val_mean_absolute_error: 66256.6122\n",
      "Epoch 6/20\n",
      "11063/11063 [==============================] - 3s 252us/step - loss: 17414614231.5278 - mean_squared_error: 17414614231.5278 - mean_absolute_error: 96297.1752 - val_loss: 6406387397.1327 - val_mean_squared_error: 6406387397.1327 - val_mean_absolute_error: 57257.2372\n",
      "Epoch 7/20\n",
      "11063/11063 [==============================] - 3s 236us/step - loss: 14661074836.3171 - mean_squared_error: 14661074836.3171 - mean_absolute_error: 89828.9783 - val_loss: 6797730713.1819 - val_mean_squared_error: 6797730713.1819 - val_mean_absolute_error: 58951.0147\n",
      "Epoch 8/20\n",
      "11063/11063 [==============================] - 3s 295us/step - loss: 14377761983.9479 - mean_squared_error: 14377761983.9479 - mean_absolute_error: 89305.7058 - val_loss: 6659620714.0833 - val_mean_squared_error: 6659620714.0833 - val_mean_absolute_error: 58400.0952\n",
      "Epoch 9/20\n",
      "11063/11063 [==============================] - 3s 251us/step - loss: 14051098738.7060 - mean_squared_error: 14051098738.7060 - mean_absolute_error: 88347.5066 - val_loss: 6955598241.7089 - val_mean_squared_error: 6955598241.7089 - val_mean_absolute_error: 59592.1437\n",
      "Epoch 10/20\n",
      "11063/11063 [==============================] - 3s 253us/step - loss: 14314922199.4584 - mean_squared_error: 14314922199.4584 - mean_absolute_error: 89288.4978 - val_loss: 6913297940.9771 - val_mean_squared_error: 6913297940.9771 - val_mean_absolute_error: 59508.6795\n",
      "Epoch 11/20\n",
      "11063/11063 [==============================] - 3s 248us/step - loss: 13520716852.7452 - mean_squared_error: 13520716852.7452 - mean_absolute_error: 86985.6262 - val_loss: 6419600279.3261 - val_mean_squared_error: 6419600279.3261 - val_mean_absolute_error: 57433.9485\n",
      "Epoch 12/20\n",
      "11063/11063 [==============================] - 3s 253us/step - loss: 13095775264.4078 - mean_squared_error: 13095775264.4078 - mean_absolute_error: 84125.0743 - val_loss: 7324577555.3797 - val_mean_squared_error: 7324577555.3797 - val_mean_absolute_error: 61174.8394\n",
      "Epoch 13/20\n",
      "11063/11063 [==============================] - 3s 260us/step - loss: 12825767252.4154 - mean_squared_error: 12825767252.4154 - mean_absolute_error: 83329.4144 - val_loss: 5897429037.0549 - val_mean_squared_error: 5897429037.0549 - val_mean_absolute_error: 54978.3907\n",
      "Epoch 14/20\n",
      "11063/11063 [==============================] - 3s 304us/step - loss: 12313996845.5052 - mean_squared_error: 12313996845.5052 - mean_absolute_error: 81374.0728 - val_loss: 6135013650.8629 - val_mean_squared_error: 6135013650.8629 - val_mean_absolute_error: 56016.9261\n",
      "Epoch 15/20\n",
      "11063/11063 [==============================] - 3s 269us/step - loss: 12169631366.3867 - mean_squared_error: 12169631366.3867 - mean_absolute_error: 80840.4370 - val_loss: 7132460917.4762 - val_mean_squared_error: 7132460917.4762 - val_mean_absolute_error: 60704.6978\n",
      "Epoch 16/20\n",
      "11063/11063 [==============================] - 3s 307us/step - loss: 11705994635.8594 - mean_squared_error: 11705994635.8594 - mean_absolute_error: 79227.2616 - val_loss: 6307994681.0351 - val_mean_squared_error: 6307994681.0351 - val_mean_absolute_error: 56720.4800\n",
      "Epoch 17/20\n",
      "11063/11063 [==============================] - 3s 275us/step - loss: 12016473698.4384 - mean_squared_error: 12016473698.4384 - mean_absolute_error: 79351.8342 - val_loss: 6569359204.4691 - val_mean_squared_error: 6569359204.4691 - val_mean_absolute_error: 57923.1875\n",
      "Epoch 18/20\n",
      "11063/11063 [==============================] - 3s 259us/step - loss: 11676613660.3467 - mean_squared_error: 11676613660.3467 - mean_absolute_error: 78430.1520 - val_loss: 7615188247.7255 - val_mean_squared_error: 7615188247.7255 - val_mean_absolute_error: 62659.8910\n",
      "Epoch 19/20\n",
      "11063/11063 [==============================] - 3s 316us/step - loss: 11656302525.9579 - mean_squared_error: 11656302525.9579 - mean_absolute_error: 78605.7519 - val_loss: 7500334949.0563 - val_mean_squared_error: 7500334949.0563 - val_mean_absolute_error: 62190.6539\n",
      "Epoch 20/20\n",
      "11063/11063 [==============================] - 3s 260us/step - loss: 11287737101.4676 - mean_squared_error: 11287737101.4676 - mean_absolute_error: 77394.1167 - val_loss: 7680376807.7108 - val_mean_squared_error: 7680376807.7108 - val_mean_absolute_error: 62806.5328\n"
     ]
    }
   ],
   "source": [
    "model_history=classifier.fit(X_train, y_train,validation_split=0.33, batch_size = 10, epochs = 20)"
   ]
  },
  {
   "cell_type": "code",
   "execution_count": 34,
   "metadata": {},
   "outputs": [],
   "source": [
    "y_pred = classifier.predict(X_test)\n",
    "#y_pred = (y_pred > 0.5)\n",
    "\n",
    "# Making the Confusion Matrix\n",
    "\n",
    "#cm = confusion_matrix(y_test, y_pred)\n",
    "\n",
    "# Calculate the Accuracy\n",
    "\n",
    "#score=accuracy_score(y_pred,y_test)"
   ]
  },
  {
   "cell_type": "code",
   "execution_count": 35,
   "metadata": {},
   "outputs": [
    {
     "data": {
      "text/plain": [
       "array([[126350.48],\n",
       "       [216195.89],\n",
       "       [177325.45],\n",
       "       ...,\n",
       "       [112284.88],\n",
       "       [213307.64],\n",
       "       [151168.94]], dtype=float32)"
      ]
     },
     "execution_count": 35,
     "metadata": {},
     "output_type": "execute_result"
    }
   ],
   "source": [
    "y_pred"
   ]
  },
  {
   "cell_type": "code",
   "execution_count": 30,
   "metadata": {},
   "outputs": [
    {
     "data": {
      "text/plain": [
       "array([[-0.52529688, -0.24653996, -0.32890798,  0.10985054, -0.33558946,\n",
       "         0.14448941],\n",
       "       [ 0.26831504, -0.00920984, -0.33127613, -0.11324108, -0.18394407,\n",
       "         0.99820424],\n",
       "       [ 0.03023146,  0.24092422,  0.02394501,  0.11247515,  0.09058637,\n",
       "         0.24775544],\n",
       "       ...,\n",
       "       [-1.39827   , -0.42076496, -0.45678759, -0.5034327 , -0.45324536,\n",
       "        -0.35327491],\n",
       "       [-0.84274165,  0.0452069 , -0.34311683, -0.30921176, -0.32774573,\n",
       "         1.18910742],\n",
       "       [ 1.85553889, -0.48478465, -0.26496818,  0.03198719, -0.24407931,\n",
       "        -0.28514765]])"
      ]
     },
     "execution_count": 30,
     "metadata": {},
     "output_type": "execute_result"
    }
   ],
   "source": [
    "#score=accuracy_score(y_pred,y_test)\n",
    "X_test"
   ]
  },
  {
   "cell_type": "code",
   "execution_count": null,
   "metadata": {},
   "outputs": [],
   "source": []
  }
 ],
 "metadata": {
  "kernelspec": {
   "display_name": "Python [conda env:root] *",
   "language": "python",
   "name": "conda-root-py"
  },
  "language_info": {
   "codemirror_mode": {
    "name": "ipython",
    "version": 3
   },
   "file_extension": ".py",
   "mimetype": "text/x-python",
   "name": "python",
   "nbconvert_exporter": "python",
   "pygments_lexer": "ipython3",
   "version": "3.7.4"
  }
 },
 "nbformat": 4,
 "nbformat_minor": 2
}
